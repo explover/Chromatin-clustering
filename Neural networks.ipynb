{
 "cells": [
  {
   "cell_type": "code",
   "execution_count": 27,
   "metadata": {},
   "outputs": [],
   "source": [
    "import keras\n",
    "import tensorflow as tf\n",
    "from keras.layers import Input, Dense\n",
    "from keras.models import Model\n",
    "\n",
    "import numpy as np\n",
    "import pandas as pd\n",
    "import seaborn as sns\n",
    "import matplotlib.pyplot as plt\n",
    "from sklearn.preprocessing import scale\n",
    "from sklearn.model_selection import train_test_split\n",
    "from scipy.stats import percentileofscore, rankdata\n",
    "from sklearn.manifold import TSNE\n",
    "from sklearn.decomposition import PCA\n",
    "\n",
    "import pickle as pkl\n",
    "from functools import partial\n",
    "from tqdm import tqdm_notebook\n",
    "\n",
    "sns.set_style(\"darkgrid\")\n",
    "%matplotlib inline"
   ]
  },
  {
   "cell_type": "code",
   "execution_count": 2,
   "metadata": {},
   "outputs": [],
   "source": [
    "DATA_PATH = \"../Cardiac_muscle/\"\n",
    "MARKS = [\"H3K4me3\", \"H3K9me3\", \"H3K36me3\", \"H3K27me3\", \"H3K27ac\", \"H3K4me1\"]\n",
    "SIZE = \"100\"\n",
    "state = 100"
   ]
  },
  {
   "cell_type": "markdown",
   "metadata": {},
   "source": [
    "## Model"
   ]
  },
  {
   "cell_type": "code",
   "execution_count": 7,
   "metadata": {},
   "outputs": [],
   "source": [
    "def get_autoencoder(inside, optimizer, loss):\n",
    "    input_img = Input(shape=(6,))\n",
    "    encoded = Dense(4, activation=inside)(input_img)\n",
    "    encoded = Dense(2, activation=inside)(encoded)\n",
    "    decoded = Dense(4, activation=inside)(encoded)\n",
    "    decoded = Dense(6, activation='sigmoid')(decoded)\n",
    "    deep_autoencoder = Model(input_img, decoded)\n",
    "    deep_autoencoder.compile(optimizer=optimizer, loss=loss) \n",
    "    encoder = Model(input_img, encoded)\n",
    "    return deep_autoencoder, encoder"
   ]
  },
  {
   "cell_type": "code",
   "execution_count": 8,
   "metadata": {},
   "outputs": [],
   "source": [
    "insides = [\"sigmoid\", \"relu\"]\n",
    "optimizers = [\"adadelta\", \"adam\", \"nadam\", \"adamax\", \"adagrad\"]"
   ]
  },
  {
   "cell_type": "code",
   "execution_count": 9,
   "metadata": {},
   "outputs": [],
   "source": [
    "autoencoder_dict = dict()\n",
    "for inside in insides:\n",
    "    for optimizer in optimizers:\n",
    "        autoencoder_dict[(inside, optimizer)] = get_autoencoder(inside, optimizer, \"mse\")"
   ]
  },
  {
   "cell_type": "code",
   "execution_count": 10,
   "metadata": {},
   "outputs": [
    {
     "name": "stdout",
     "output_type": "stream",
     "text": [
      "_________________________________________________________________\n",
      "Layer (type)                 Output Shape              Param #   \n",
      "=================================================================\n",
      "input_13 (InputLayer)        (None, 6)                 0         \n",
      "_________________________________________________________________\n",
      "dense_69 (Dense)             (None, 4)                 28        \n",
      "_________________________________________________________________\n",
      "dense_70 (Dense)             (None, 2)                 10        \n",
      "_________________________________________________________________\n",
      "dense_71 (Dense)             (None, 4)                 12        \n",
      "_________________________________________________________________\n",
      "dense_72 (Dense)             (None, 6)                 30        \n",
      "=================================================================\n",
      "Total params: 80\n",
      "Trainable params: 80\n",
      "Non-trainable params: 0\n",
      "_________________________________________________________________\n"
     ]
    }
   ],
   "source": [
    "autoencoder_dict[(\"sigmoid\", \"nadam\")][0].summary()"
   ]
  },
  {
   "cell_type": "markdown",
   "metadata": {},
   "source": [
    "## Dataset"
   ]
  },
  {
   "cell_type": "code",
   "execution_count": 11,
   "metadata": {},
   "outputs": [],
   "source": [
    "first_chrom = dict()\n",
    "for mark in MARKS:\n",
    "    with open(\"{}{}_100.pkl\".format(DATA_PATH, mark), \"rb\") as mark_file:\n",
    "        first_chrom[mark] = pkl.load(mark_file)"
   ]
  },
  {
   "cell_type": "code",
   "execution_count": 12,
   "metadata": {},
   "outputs": [],
   "source": [
    "for mark in first_chrom:\n",
    "    where_nans = np.isnan(first_chrom[mark])\n",
    "    first_chrom[mark][where_nans] = 0"
   ]
  },
  {
   "cell_type": "code",
   "execution_count": null,
   "metadata": {},
   "outputs": [],
   "source": [
    "first_chrom_df = pd.DataFrame(first_chrom)\n",
    "first_chrom_scaled = pd.DataFrame(scale(first_chrom_df), columns=first_chrom_df.columns)"
   ]
  },
  {
   "cell_type": "code",
   "execution_count": 14,
   "metadata": {},
   "outputs": [],
   "source": [
    "# first_nonzero = first_chrom_df[first_chrom_df.apply(sum, axis=1) != 0]\n",
    "first_nonzero = pd.read_hdf(\"../Cardiac_muscle/first_nonzero.hdf\")"
   ]
  },
  {
   "cell_type": "code",
   "execution_count": 16,
   "metadata": {},
   "outputs": [],
   "source": [
    "first_nonzero.to_hdf(\"../Cardiac_muscle/first_nonzero.hdf\", \"w\")"
   ]
  },
  {
   "cell_type": "code",
   "execution_count": 17,
   "metadata": {},
   "outputs": [],
   "source": [
    "genes = pd.read_hdf(\"../Labels/ensembl_CDSs.hdf\")\n",
    "labels_nonzero = genes[first_nonzero.index]\n",
    "labels_nonzero.index = range(len(labels_nonzero))"
   ]
  },
  {
   "cell_type": "code",
   "execution_count": 18,
   "metadata": {},
   "outputs": [
    {
     "data": {
      "text/html": [
       "<div>\n",
       "<style scoped>\n",
       "    .dataframe tbody tr th:only-of-type {\n",
       "        vertical-align: middle;\n",
       "    }\n",
       "\n",
       "    .dataframe tbody tr th {\n",
       "        vertical-align: top;\n",
       "    }\n",
       "\n",
       "    .dataframe thead th {\n",
       "        text-align: right;\n",
       "    }\n",
       "</style>\n",
       "<table border=\"1\" class=\"dataframe\">\n",
       "  <thead>\n",
       "    <tr style=\"text-align: right;\">\n",
       "      <th></th>\n",
       "      <th>H3K27ac</th>\n",
       "      <th>H3K27me3</th>\n",
       "      <th>H3K36me3</th>\n",
       "      <th>H3K4me1</th>\n",
       "      <th>H3K4me3</th>\n",
       "      <th>H3K9me3</th>\n",
       "    </tr>\n",
       "  </thead>\n",
       "  <tbody>\n",
       "    <tr>\n",
       "      <th>98</th>\n",
       "      <td>0.000000</td>\n",
       "      <td>0.000000</td>\n",
       "      <td>0.000000</td>\n",
       "      <td>0.000000</td>\n",
       "      <td>0.000000</td>\n",
       "      <td>0.032607</td>\n",
       "    </tr>\n",
       "    <tr>\n",
       "      <th>99</th>\n",
       "      <td>0.134452</td>\n",
       "      <td>0.071357</td>\n",
       "      <td>0.150166</td>\n",
       "      <td>0.000000</td>\n",
       "      <td>0.178754</td>\n",
       "      <td>0.166953</td>\n",
       "    </tr>\n",
       "    <tr>\n",
       "      <th>100</th>\n",
       "      <td>0.409484</td>\n",
       "      <td>0.331994</td>\n",
       "      <td>0.257893</td>\n",
       "      <td>0.010391</td>\n",
       "      <td>0.527132</td>\n",
       "      <td>0.828330</td>\n",
       "    </tr>\n",
       "    <tr>\n",
       "      <th>101</th>\n",
       "      <td>1.106421</td>\n",
       "      <td>0.888328</td>\n",
       "      <td>0.233954</td>\n",
       "      <td>0.135092</td>\n",
       "      <td>0.825033</td>\n",
       "      <td>2.003630</td>\n",
       "    </tr>\n",
       "    <tr>\n",
       "      <th>102</th>\n",
       "      <td>1.508669</td>\n",
       "      <td>1.465509</td>\n",
       "      <td>0.462926</td>\n",
       "      <td>0.490447</td>\n",
       "      <td>1.117832</td>\n",
       "      <td>2.107487</td>\n",
       "    </tr>\n",
       "  </tbody>\n",
       "</table>\n",
       "</div>"
      ],
      "text/plain": [
       "      H3K27ac  H3K27me3  H3K36me3   H3K4me1   H3K4me3   H3K9me3\n",
       "98   0.000000  0.000000  0.000000  0.000000  0.000000  0.032607\n",
       "99   0.134452  0.071357  0.150166  0.000000  0.178754  0.166953\n",
       "100  0.409484  0.331994  0.257893  0.010391  0.527132  0.828330\n",
       "101  1.106421  0.888328  0.233954  0.135092  0.825033  2.003630\n",
       "102  1.508669  1.465509  0.462926  0.490447  1.117832  2.107487"
      ]
     },
     "execution_count": 18,
     "metadata": {},
     "output_type": "execute_result"
    }
   ],
   "source": [
    "first_nonzero.head()"
   ]
  },
  {
   "cell_type": "code",
   "execution_count": 19,
   "metadata": {},
   "outputs": [
    {
     "data": {
      "text/plain": [
       "2206482"
      ]
     },
     "execution_count": 19,
     "metadata": {},
     "output_type": "execute_result"
    }
   ],
   "source": [
    "len(first_nonzero)"
   ]
  },
  {
   "cell_type": "code",
   "execution_count": 20,
   "metadata": {},
   "outputs": [],
   "source": [
    "def get_quant(column, row):\n",
    "    return percentileofscore(first_chrom_scaled[column], row[column])"
   ]
  },
  {
   "cell_type": "code",
   "execution_count": 21,
   "metadata": {},
   "outputs": [
    {
     "data": {
      "application/vnd.jupyter.widget-view+json": {
       "model_id": "aa372b186a784b3cbae47d9c52f12f88",
       "version_major": 2,
       "version_minor": 0
      },
      "text/html": [
       "<p>Failed to display Jupyter Widget of type <code>HBox</code>.</p>\n",
       "<p>\n",
       "  If you're reading this message in the Jupyter Notebook or JupyterLab Notebook, it may mean\n",
       "  that the widgets JavaScript is still loading. If this message persists, it\n",
       "  likely means that the widgets JavaScript library is either not installed or\n",
       "  not enabled. See the <a href=\"https://ipywidgets.readthedocs.io/en/stable/user_install.html\">Jupyter\n",
       "  Widgets Documentation</a> for setup instructions.\n",
       "</p>\n",
       "<p>\n",
       "  If you're reading this message in another frontend (for example, a static\n",
       "  rendering on GitHub or <a href=\"https://nbviewer.jupyter.org/\">NBViewer</a>),\n",
       "  it may mean that your frontend doesn't currently support widgets.\n",
       "</p>\n"
      ],
      "text/plain": [
       "HBox(children=(IntProgress(value=0, max=6), HTML(value='')))"
      ]
     },
     "metadata": {},
     "output_type": "display_data"
    },
    {
     "name": "stdout",
     "output_type": "stream",
     "text": [
      "H3K27ac\n",
      "H3K27me3\n",
      "H3K36me3\n",
      "H3K4me1\n",
      "H3K4me3\n",
      "H3K9me3\n",
      "\n"
     ]
    }
   ],
   "source": [
    "quant_scaled = pd.DataFrame()\n",
    "for column in tqdm_notebook(first_nonzero.columns):\n",
    "    print(column)\n",
    "    quant_scaled[column] = rankdata(first_nonzero[column], method=\"average\") / len(first_nonzero)\n",
    "#     quantilize = partial(get_quant, column)\n",
    "#     quant_scaled[column] = first_chrom_scaled.apply(quantilize, axis=1)"
   ]
  },
  {
   "cell_type": "code",
   "execution_count": 22,
   "metadata": {},
   "outputs": [],
   "source": [
    "x_train, x_test = train_test_split(quant_scaled, test_size=0.2, random_state=state)"
   ]
  },
  {
   "cell_type": "code",
   "execution_count": 23,
   "metadata": {},
   "outputs": [
    {
     "data": {
      "text/html": [
       "<div>\n",
       "<style scoped>\n",
       "    .dataframe tbody tr th:only-of-type {\n",
       "        vertical-align: middle;\n",
       "    }\n",
       "\n",
       "    .dataframe tbody tr th {\n",
       "        vertical-align: top;\n",
       "    }\n",
       "\n",
       "    .dataframe thead th {\n",
       "        text-align: right;\n",
       "    }\n",
       "</style>\n",
       "<table border=\"1\" class=\"dataframe\">\n",
       "  <thead>\n",
       "    <tr style=\"text-align: right;\">\n",
       "      <th></th>\n",
       "      <th>H3K27ac</th>\n",
       "      <th>H3K27me3</th>\n",
       "      <th>H3K36me3</th>\n",
       "      <th>H3K4me1</th>\n",
       "      <th>H3K4me3</th>\n",
       "      <th>H3K9me3</th>\n",
       "    </tr>\n",
       "  </thead>\n",
       "  <tbody>\n",
       "    <tr>\n",
       "      <th>1453965</th>\n",
       "      <td>0.571852</td>\n",
       "      <td>0.915979</td>\n",
       "      <td>0.801637</td>\n",
       "      <td>0.313480</td>\n",
       "      <td>0.846220</td>\n",
       "      <td>0.992860</td>\n",
       "    </tr>\n",
       "    <tr>\n",
       "      <th>1915671</th>\n",
       "      <td>0.691489</td>\n",
       "      <td>0.829418</td>\n",
       "      <td>0.880634</td>\n",
       "      <td>0.477877</td>\n",
       "      <td>0.550437</td>\n",
       "      <td>0.919766</td>\n",
       "    </tr>\n",
       "    <tr>\n",
       "      <th>1660602</th>\n",
       "      <td>0.916550</td>\n",
       "      <td>0.292676</td>\n",
       "      <td>0.737345</td>\n",
       "      <td>0.948688</td>\n",
       "      <td>0.466556</td>\n",
       "      <td>0.816524</td>\n",
       "    </tr>\n",
       "    <tr>\n",
       "      <th>470680</th>\n",
       "      <td>0.754725</td>\n",
       "      <td>0.992119</td>\n",
       "      <td>0.422752</td>\n",
       "      <td>0.422723</td>\n",
       "      <td>0.574312</td>\n",
       "      <td>0.613865</td>\n",
       "    </tr>\n",
       "    <tr>\n",
       "      <th>442690</th>\n",
       "      <td>0.542691</td>\n",
       "      <td>0.046222</td>\n",
       "      <td>0.934821</td>\n",
       "      <td>0.428091</td>\n",
       "      <td>0.952296</td>\n",
       "      <td>0.609962</td>\n",
       "    </tr>\n",
       "  </tbody>\n",
       "</table>\n",
       "</div>"
      ],
      "text/plain": [
       "          H3K27ac  H3K27me3  H3K36me3   H3K4me1   H3K4me3   H3K9me3\n",
       "1453965  0.571852  0.915979  0.801637  0.313480  0.846220  0.992860\n",
       "1915671  0.691489  0.829418  0.880634  0.477877  0.550437  0.919766\n",
       "1660602  0.916550  0.292676  0.737345  0.948688  0.466556  0.816524\n",
       "470680   0.754725  0.992119  0.422752  0.422723  0.574312  0.613865\n",
       "442690   0.542691  0.046222  0.934821  0.428091  0.952296  0.609962"
      ]
     },
     "execution_count": 23,
     "metadata": {},
     "output_type": "execute_result"
    }
   ],
   "source": [
    "x_train.head()"
   ]
  },
  {
   "cell_type": "markdown",
   "metadata": {},
   "source": [
    "## Train dat shit"
   ]
  },
  {
   "cell_type": "code",
   "execution_count": null,
   "metadata": {},
   "outputs": [],
   "source": [
    "dim_dict = dict()\n",
    "for key, (autoencoder, encoder) in autoencoder_dict.items():\n",
    "    autoencoder.fit(x_train, x_train,\n",
    "                    epochs=20,\n",
    "                    batch_size=256,\n",
    "                    shuffle=True,\n",
    "                    validation_data=(x_test, x_test))\n",
    "    dim_dict[key] = zip(*encoder.predict(quant_scaled))"
   ]
  },
  {
   "cell_type": "code",
   "execution_count": 24,
   "metadata": {},
   "outputs": [
    {
     "name": "stdout",
     "output_type": "stream",
     "text": [
      "Train on 1765185 samples, validate on 441297 samples\n",
      "Epoch 1/100\n",
      "1765185/1765185 [==============================] - 9s 5us/step - loss: 0.0457 - val_loss: 0.0384\n",
      "Epoch 2/100\n",
      "1765185/1765185 [==============================] - 8s 5us/step - loss: 0.0383 - val_loss: 0.0381\n",
      "Epoch 3/100\n",
      "1765185/1765185 [==============================] - 8s 5us/step - loss: 0.0382 - val_loss: 0.0381\n",
      "Epoch 4/100\n",
      "1765185/1765185 [==============================] - 8s 5us/step - loss: 0.0381 - val_loss: 0.0381\n",
      "Epoch 5/100\n",
      "1765185/1765185 [==============================] - 8s 5us/step - loss: 0.0381 - val_loss: 0.0381\n",
      "Epoch 6/100\n",
      "1765185/1765185 [==============================] - 8s 5us/step - loss: 0.0380 - val_loss: 0.0379\n",
      "Epoch 7/100\n",
      "1765185/1765185 [==============================] - 8s 5us/step - loss: 0.0376 - val_loss: 0.0369\n",
      "Epoch 8/100\n",
      "1765185/1765185 [==============================] - 8s 5us/step - loss: 0.0363 - val_loss: 0.0359\n",
      "Epoch 9/100\n",
      "1765185/1765185 [==============================] - 8s 5us/step - loss: 0.0357 - val_loss: 0.0355\n",
      "Epoch 10/100\n",
      "1765185/1765185 [==============================] - 8s 5us/step - loss: 0.0354 - val_loss: 0.0352\n",
      "Epoch 11/100\n",
      "1765185/1765185 [==============================] - 8s 5us/step - loss: 0.0351 - val_loss: 0.0350\n",
      "Epoch 12/100\n",
      "1765185/1765185 [==============================] - 8s 5us/step - loss: 0.0350 - val_loss: 0.0349\n",
      "Epoch 13/100\n",
      "1765185/1765185 [==============================] - 8s 5us/step - loss: 0.0349 - val_loss: 0.0349\n",
      "Epoch 14/100\n",
      "1765185/1765185 [==============================] - 8s 5us/step - loss: 0.0349 - val_loss: 0.0348\n",
      "Epoch 15/100\n",
      "1765185/1765185 [==============================] - 8s 5us/step - loss: 0.0348 - val_loss: 0.0347\n",
      "Epoch 16/100\n",
      "1765185/1765185 [==============================] - 8s 5us/step - loss: 0.0348 - val_loss: 0.0347\n",
      "Epoch 17/100\n",
      "1765185/1765185 [==============================] - 8s 5us/step - loss: 0.0347 - val_loss: 0.0347\n",
      "Epoch 18/100\n",
      "1765185/1765185 [==============================] - 8s 5us/step - loss: 0.0347 - val_loss: 0.0346\n",
      "Epoch 19/100\n",
      "1765185/1765185 [==============================] - 8s 5us/step - loss: 0.0347 - val_loss: 0.0346\n",
      "Epoch 20/100\n",
      "1765185/1765185 [==============================] - 8s 5us/step - loss: 0.0346 - val_loss: 0.0346\n",
      "Epoch 21/100\n",
      "1765185/1765185 [==============================] - 8s 5us/step - loss: 0.0346 - val_loss: 0.0346\n",
      "Epoch 22/100\n",
      "1765185/1765185 [==============================] - 8s 5us/step - loss: 0.0346 - val_loss: 0.0345\n",
      "Epoch 23/100\n",
      "1765185/1765185 [==============================] - 8s 5us/step - loss: 0.0346 - val_loss: 0.0345\n",
      "Epoch 24/100\n",
      "1765185/1765185 [==============================] - 8s 5us/step - loss: 0.0345 - val_loss: 0.0345\n",
      "Epoch 25/100\n",
      "1765185/1765185 [==============================] - 8s 5us/step - loss: 0.0345 - val_loss: 0.0344\n",
      "Epoch 26/100\n",
      "1765185/1765185 [==============================] - 8s 5us/step - loss: 0.0345 - val_loss: 0.0344\n",
      "Epoch 27/100\n",
      "1765185/1765185 [==============================] - 8s 5us/step - loss: 0.0345 - val_loss: 0.0344\n",
      "Epoch 28/100\n",
      "1765185/1765185 [==============================] - 8s 5us/step - loss: 0.0344 - val_loss: 0.0344\n",
      "Epoch 29/100\n",
      "1765185/1765185 [==============================] - 8s 5us/step - loss: 0.0344 - val_loss: 0.0344\n",
      "Epoch 30/100\n",
      "1765185/1765185 [==============================] - 8s 5us/step - loss: 0.0344 - val_loss: 0.0344\n",
      "Epoch 31/100\n",
      "1765185/1765185 [==============================] - 8s 5us/step - loss: 0.0344 - val_loss: 0.0343\n",
      "Epoch 32/100\n",
      "1765185/1765185 [==============================] - 8s 5us/step - loss: 0.0344 - val_loss: 0.0343\n",
      "Epoch 33/100\n",
      "1765185/1765185 [==============================] - 8s 5us/step - loss: 0.0344 - val_loss: 0.0343\n",
      "Epoch 34/100\n",
      "1765185/1765185 [==============================] - 8s 5us/step - loss: 0.0343 - val_loss: 0.0343\n",
      "Epoch 35/100\n",
      "1765185/1765185 [==============================] - 8s 5us/step - loss: 0.0343 - val_loss: 0.0343\n",
      "Epoch 36/100\n",
      "1765185/1765185 [==============================] - 8s 5us/step - loss: 0.0343 - val_loss: 0.0343\n",
      "Epoch 37/100\n",
      "1765185/1765185 [==============================] - 8s 5us/step - loss: 0.0343 - val_loss: 0.0343\n",
      "Epoch 38/100\n",
      "1765185/1765185 [==============================] - 8s 5us/step - loss: 0.0343 - val_loss: 0.0342\n",
      "Epoch 39/100\n",
      "1765185/1765185 [==============================] - 10s 6us/step - loss: 0.0343 - val_loss: 0.0342\n",
      "Epoch 40/100\n",
      "1765185/1765185 [==============================] - 8s 5us/step - loss: 0.0343 - val_loss: 0.0342\n",
      "Epoch 41/100\n",
      "1765185/1765185 [==============================] - 8s 5us/step - loss: 0.0343 - val_loss: 0.0342\n",
      "Epoch 42/100\n",
      "1765185/1765185 [==============================] - 8s 5us/step - loss: 0.0343 - val_loss: 0.0342\n",
      "Epoch 43/100\n",
      "1765185/1765185 [==============================] - 8s 5us/step - loss: 0.0343 - val_loss: 0.0342\n",
      "Epoch 44/100\n",
      "1765185/1765185 [==============================] - 8s 5us/step - loss: 0.0342 - val_loss: 0.0342\n",
      "Epoch 45/100\n",
      "1765185/1765185 [==============================] - 8s 5us/step - loss: 0.0342 - val_loss: 0.0342\n",
      "Epoch 46/100\n",
      "1765185/1765185 [==============================] - 8s 5us/step - loss: 0.0342 - val_loss: 0.0342\n",
      "Epoch 47/100\n",
      "1765185/1765185 [==============================] - 8s 5us/step - loss: 0.0342 - val_loss: 0.0342\n",
      "Epoch 48/100\n",
      "1765185/1765185 [==============================] - 8s 5us/step - loss: 0.0342 - val_loss: 0.0341\n",
      "Epoch 49/100\n",
      "1765185/1765185 [==============================] - 8s 5us/step - loss: 0.0342 - val_loss: 0.0342\n",
      "Epoch 50/100\n",
      "1765185/1765185 [==============================] - 8s 5us/step - loss: 0.0342 - val_loss: 0.0341\n",
      "Epoch 51/100\n",
      "1765185/1765185 [==============================] - 8s 5us/step - loss: 0.0342 - val_loss: 0.0342\n",
      "Epoch 52/100\n",
      "1765185/1765185 [==============================] - 8s 5us/step - loss: 0.0342 - val_loss: 0.0342\n",
      "Epoch 53/100\n",
      "1765185/1765185 [==============================] - 8s 5us/step - loss: 0.0342 - val_loss: 0.0341\n",
      "Epoch 54/100\n",
      "1765185/1765185 [==============================] - 8s 5us/step - loss: 0.0342 - val_loss: 0.0341\n",
      "Epoch 55/100\n",
      "1765185/1765185 [==============================] - 8s 5us/step - loss: 0.0342 - val_loss: 0.0341\n",
      "Epoch 56/100\n",
      "1765185/1765185 [==============================] - 8s 5us/step - loss: 0.0342 - val_loss: 0.0341\n",
      "Epoch 57/100\n",
      "1765185/1765185 [==============================] - 8s 5us/step - loss: 0.0342 - val_loss: 0.0341\n",
      "Epoch 58/100\n",
      "1765185/1765185 [==============================] - 10s 5us/step - loss: 0.0342 - val_loss: 0.0341\n",
      "Epoch 59/100\n",
      "1765185/1765185 [==============================] - 8s 5us/step - loss: 0.0341 - val_loss: 0.0341\n",
      "Epoch 60/100\n",
      "1765185/1765185 [==============================] - 8s 5us/step - loss: 0.0341 - val_loss: 0.0341\n",
      "Epoch 61/100\n",
      "1765185/1765185 [==============================] - 8s 5us/step - loss: 0.0341 - val_loss: 0.0341\n",
      "Epoch 62/100\n",
      "1765185/1765185 [==============================] - 8s 5us/step - loss: 0.0341 - val_loss: 0.0341\n",
      "Epoch 63/100\n",
      "1765185/1765185 [==============================] - 8s 5us/step - loss: 0.0341 - val_loss: 0.0341\n",
      "Epoch 64/100\n",
      "1765185/1765185 [==============================] - 8s 5us/step - loss: 0.0341 - val_loss: 0.0341\n",
      "Epoch 65/100\n",
      "1765185/1765185 [==============================] - 8s 5us/step - loss: 0.0341 - val_loss: 0.0341\n",
      "Epoch 66/100\n",
      "1765185/1765185 [==============================] - 8s 5us/step - loss: 0.0341 - val_loss: 0.0341\n",
      "Epoch 67/100\n",
      "1765185/1765185 [==============================] - 8s 5us/step - loss: 0.0341 - val_loss: 0.0341\n",
      "Epoch 68/100\n",
      "1765185/1765185 [==============================] - 8s 5us/step - loss: 0.0341 - val_loss: 0.0340\n",
      "Epoch 69/100\n",
      "1765185/1765185 [==============================] - 8s 5us/step - loss: 0.0341 - val_loss: 0.0341\n",
      "Epoch 70/100\n",
      "1765185/1765185 [==============================] - 8s 5us/step - loss: 0.0341 - val_loss: 0.0340\n",
      "Epoch 71/100\n",
      "1765185/1765185 [==============================] - 8s 5us/step - loss: 0.0341 - val_loss: 0.0341\n",
      "Epoch 72/100\n",
      "1765185/1765185 [==============================] - 8s 5us/step - loss: 0.0341 - val_loss: 0.0340\n",
      "Epoch 73/100\n",
      "1765185/1765185 [==============================] - 8s 4us/step - loss: 0.0341 - val_loss: 0.0340\n",
      "Epoch 74/100\n",
      "1765185/1765185 [==============================] - 8s 5us/step - loss: 0.0341 - val_loss: 0.0340\n",
      "Epoch 75/100\n"
     ]
    },
    {
     "name": "stdout",
     "output_type": "stream",
     "text": [
      "1765185/1765185 [==============================] - 8s 5us/step - loss: 0.0341 - val_loss: 0.0340\n",
      "Epoch 76/100\n",
      "1765185/1765185 [==============================] - 8s 5us/step - loss: 0.0341 - val_loss: 0.0341\n",
      "Epoch 77/100\n",
      "1765185/1765185 [==============================] - 8s 4us/step - loss: 0.0341 - val_loss: 0.0340\n",
      "Epoch 78/100\n",
      "1765185/1765185 [==============================] - 8s 4us/step - loss: 0.0341 - val_loss: 0.0340\n",
      "Epoch 79/100\n",
      "1765185/1765185 [==============================] - 8s 5us/step - loss: 0.0341 - val_loss: 0.0340\n",
      "Epoch 80/100\n",
      "1765185/1765185 [==============================] - 8s 5us/step - loss: 0.0341 - val_loss: 0.0340\n",
      "Epoch 81/100\n",
      "1765185/1765185 [==============================] - 8s 5us/step - loss: 0.0341 - val_loss: 0.0340\n",
      "Epoch 82/100\n",
      "1765185/1765185 [==============================] - 8s 5us/step - loss: 0.0341 - val_loss: 0.0340\n",
      "Epoch 83/100\n",
      "1765185/1765185 [==============================] - 8s 5us/step - loss: 0.0341 - val_loss: 0.0340\n",
      "Epoch 84/100\n",
      "1765185/1765185 [==============================] - 8s 5us/step - loss: 0.0341 - val_loss: 0.0340\n",
      "Epoch 85/100\n",
      "1765185/1765185 [==============================] - 8s 5us/step - loss: 0.0341 - val_loss: 0.0340\n",
      "Epoch 86/100\n",
      "1765185/1765185 [==============================] - 8s 5us/step - loss: 0.0341 - val_loss: 0.0340\n",
      "Epoch 87/100\n",
      "1765185/1765185 [==============================] - 8s 5us/step - loss: 0.0340 - val_loss: 0.0340\n",
      "Epoch 88/100\n",
      "1765185/1765185 [==============================] - 8s 5us/step - loss: 0.0340 - val_loss: 0.0340\n",
      "Epoch 89/100\n",
      "1765185/1765185 [==============================] - 8s 5us/step - loss: 0.0340 - val_loss: 0.0340\n",
      "Epoch 90/100\n",
      "1765185/1765185 [==============================] - 8s 5us/step - loss: 0.0340 - val_loss: 0.0340\n",
      "Epoch 91/100\n",
      "1765185/1765185 [==============================] - 8s 4us/step - loss: 0.0340 - val_loss: 0.0340\n",
      "Epoch 92/100\n",
      "1765185/1765185 [==============================] - 8s 5us/step - loss: 0.0340 - val_loss: 0.0340\n",
      "Epoch 93/100\n",
      "1765185/1765185 [==============================] - 8s 5us/step - loss: 0.0340 - val_loss: 0.0340\n",
      "Epoch 94/100\n",
      "1765185/1765185 [==============================] - 8s 5us/step - loss: 0.0340 - val_loss: 0.0340\n",
      "Epoch 95/100\n",
      "1765185/1765185 [==============================] - 8s 5us/step - loss: 0.0340 - val_loss: 0.0340\n",
      "Epoch 96/100\n",
      "1765185/1765185 [==============================] - 8s 5us/step - loss: 0.0340 - val_loss: 0.0340\n",
      "Epoch 97/100\n",
      "1765185/1765185 [==============================] - 8s 5us/step - loss: 0.0340 - val_loss: 0.0340\n",
      "Epoch 98/100\n",
      "1765185/1765185 [==============================] - 8s 5us/step - loss: 0.0340 - val_loss: 0.0340\n",
      "Epoch 99/100\n",
      "1765185/1765185 [==============================] - 8s 4us/step - loss: 0.0340 - val_loss: 0.0340\n",
      "Epoch 100/100\n",
      "1765185/1765185 [==============================] - 8s 4us/step - loss: 0.0340 - val_loss: 0.0340\n"
     ]
    },
    {
     "data": {
      "text/plain": [
       "<keras.callbacks.History at 0x7fb5f7ff5ac8>"
      ]
     },
     "execution_count": 24,
     "metadata": {},
     "output_type": "execute_result"
    }
   ],
   "source": [
    "autoencoder_dict[(\"sigmoid\", \"nadam\")][0].fit(x_train.values, x_train.values,\n",
    "                                              epochs=100,\n",
    "                                              batch_size=256,\n",
    "                                              shuffle=True,\n",
    "                                              validation_data=(x_test, x_test))"
   ]
  },
  {
   "cell_type": "code",
   "execution_count": 25,
   "metadata": {},
   "outputs": [],
   "source": [
    "x, y = zip(*autoencoder_dict[(\"sigmoid\", \"nadam\")][1].predict(quant_scaled))"
   ]
  },
  {
   "cell_type": "code",
   "execution_count": 29,
   "metadata": {},
   "outputs": [],
   "source": [
    "auto_df = pd.DataFrame({\"x\": x, \"y\": y})"
   ]
  },
  {
   "cell_type": "code",
   "execution_count": 38,
   "metadata": {},
   "outputs": [
    {
     "data": {
      "text/plain": [
       "<matplotlib.collections.PathCollection at 0x7fb5dc605588>"
      ]
     },
     "execution_count": 38,
     "metadata": {},
     "output_type": "execute_result"
    },
    {
     "data": {
      "image/png": "[encoded data removed]",
      "text/plain": [
       "<matplotlib.figure.Figure at 0x7fb5f01309e8>"
      ]
     },
     "metadata": {},
     "output_type": "display_data"
    }
   ],
   "source": [
    "plt.scatter(x, y, alpha=0.007, s=0.1, c=labels_nonzero, cmap=\"YlGn\")"
   ]
  },
  {
   "cell_type": "markdown",
   "metadata": {},
   "source": [
    "## PCA stuff"
   ]
  },
  {
   "cell_type": "code",
   "execution_count": 28,
   "metadata": {},
   "outputs": [],
   "source": [
    "pca = PCA(n_components=2)"
   ]
  },
  {
   "cell_type": "code",
   "execution_count": 34,
   "metadata": {},
   "outputs": [],
   "source": [
    "auto_pca_arr = pca.fit_transform(auto_df)\n",
    "auto_pca_df = pd.DataFrame(auto_pca_arr, columns=[\"x\", \"y\"])"
   ]
  },
  {
   "cell_type": "code",
   "execution_count": 35,
   "metadata": {},
   "outputs": [
    {
     "data": {
      "text/plain": [
       "<matplotlib.collections.PathCollection at 0x7fb5e5e4b7f0>"
      ]
     },
     "execution_count": 35,
     "metadata": {},
     "output_type": "execute_result"
    },
    {
     "data": {
      "image/png": "[encoded data removed]",
      "text/plain": [
       "<matplotlib.figure.Figure at 0x7fb5e5eab358>"
      ]
     },
     "metadata": {},
     "output_type": "display_data"
    }
   ],
   "source": [
    "plt.scatter(auto_pca_df[\"x\"], auto_pca_df[\"y\"], alpha=0.007, s=0.1)"
   ]
  },
  {
   "cell_type": "markdown",
   "metadata": {},
   "source": [
    "## TSNE stuff"
   ]
  },
  {
   "cell_type": "code",
   "execution_count": 61,
   "metadata": {},
   "outputs": [],
   "source": [
    "x, y = dim_dict[(\"sigmoid\", \"nadam\")]"
   ]
  },
  {
   "cell_type": "code",
   "execution_count": 84,
   "metadata": {},
   "outputs": [
    {
     "name": "stderr",
     "output_type": "stream",
     "text": [
      "/usr/local/lib/python3.6/dist-packages/ipykernel_launcher.py:1: SettingWithCopyWarning: \n",
      "A value is trying to be set on a copy of a slice from a DataFrame.\n",
      "Try using .loc[row_indexer,col_indexer] = value instead\n",
      "\n",
      "See the caveats in the documentation: http://pandas.pydata.org/pandas-docs/stable/indexing.html#indexing-view-versus-copy\n",
      "  \"\"\"Entry point for launching an IPython kernel.\n",
      "/usr/local/lib/python3.6/dist-packages/ipykernel_launcher.py:2: SettingWithCopyWarning: \n",
      "A value is trying to be set on a copy of a slice from a DataFrame.\n",
      "Try using .loc[row_indexer,col_indexer] = value instead\n",
      "\n",
      "See the caveats in the documentation: http://pandas.pydata.org/pandas-docs/stable/indexing.html#indexing-view-versus-copy\n",
      "  \n"
     ]
    }
   ],
   "source": [
    "first_nonzero[\"auto_x\"] = x\n",
    "first_nonzero[\"auto_y\"] = y"
   ]
  },
  {
   "cell_type": "code",
   "execution_count": 87,
   "metadata": {},
   "outputs": [],
   "source": [
    "first_nonzero_scaled = pd.DataFrame(scale(first_nonzero), columns=first_nonzero.columns)"
   ]
  },
  {
   "cell_type": "code",
   "execution_count": 88,
   "metadata": {},
   "outputs": [],
   "source": [
    "first_nonzero_scaled.to_hdf(\"../Models/first_nonzero_scaled.hdf\", key=\"w\")"
   ]
  },
  {
   "cell_type": "code",
   "execution_count": 89,
   "metadata": {},
   "outputs": [],
   "source": [
    "def lol_sum(row):\n",
    "    return sum(row[:-2])"
   ]
  },
  {
   "cell_type": "code",
   "execution_count": 47,
   "metadata": {},
   "outputs": [],
   "source": [
    "first_nonzero = first_chrom_df[first_chrom_df.apply(lol_sum, axis=1) != 0]\n",
    "first_nonzero_scaled = pd.DataFrame(scale(first_nonzero), columns=first_chrom_df.columns)"
   ]
  },
  {
   "cell_type": "code",
   "execution_count": 39,
   "metadata": {},
   "outputs": [],
   "source": [
    "little_all_scaled = first_scaled_all.sample(n=6000, random_state=state)"
   ]
  },
  {
   "cell_type": "code",
   "execution_count": 98,
   "metadata": {},
   "outputs": [],
   "source": [
    "little_nonzero_scaled = first_nonzero_scaled.sample(n=6000, random_state=state)"
   ]
  },
  {
   "cell_type": "code",
   "execution_count": 99,
   "metadata": {},
   "outputs": [],
   "source": [
    "tsne = TSNE(random_state=state)"
   ]
  },
  {
   "cell_type": "code",
   "execution_count": 100,
   "metadata": {},
   "outputs": [],
   "source": [
    "lol_table = tsne.fit_transform(little_nonzero_scaled)"
   ]
  },
  {
   "cell_type": "code",
   "execution_count": 101,
   "metadata": {},
   "outputs": [],
   "source": [
    "lol_x, lol_y = zip(*lol_table)"
   ]
  },
  {
   "cell_type": "code",
   "execution_count": null,
   "metadata": {},
   "outputs": [],
   "source": [
    "plt.scatter(x, y, alpha=1)"
   ]
  },
  {
   "cell_type": "code",
   "execution_count": 45,
   "metadata": {},
   "outputs": [
    {
     "data": {
      "text/html": [
       "<div>\n",
       "<style scoped>\n",
       "    .dataframe tbody tr th:only-of-type {\n",
       "        vertical-align: middle;\n",
       "    }\n",
       "\n",
       "    .dataframe tbody tr th {\n",
       "        vertical-align: top;\n",
       "    }\n",
       "\n",
       "    .dataframe thead th {\n",
       "        text-align: right;\n",
       "    }\n",
       "</style>\n",
       "<table border=\"1\" class=\"dataframe\">\n",
       "  <thead>\n",
       "    <tr style=\"text-align: right;\">\n",
       "      <th></th>\n",
       "      <th>H3K27ac</th>\n",
       "      <th>H3K27me3</th>\n",
       "      <th>H3K36me3</th>\n",
       "      <th>H3K4me1</th>\n",
       "      <th>H3K4me3</th>\n",
       "      <th>H3K9me3</th>\n",
       "    </tr>\n",
       "  </thead>\n",
       "  <tbody>\n",
       "    <tr>\n",
       "      <th>0</th>\n",
       "      <td>0.0</td>\n",
       "      <td>0.0</td>\n",
       "      <td>0.0</td>\n",
       "      <td>0.0</td>\n",
       "      <td>0.0</td>\n",
       "      <td>0.0</td>\n",
       "    </tr>\n",
       "    <tr>\n",
       "      <th>1</th>\n",
       "      <td>0.0</td>\n",
       "      <td>0.0</td>\n",
       "      <td>0.0</td>\n",
       "      <td>0.0</td>\n",
       "      <td>0.0</td>\n",
       "      <td>0.0</td>\n",
       "    </tr>\n",
       "    <tr>\n",
       "      <th>2</th>\n",
       "      <td>0.0</td>\n",
       "      <td>0.0</td>\n",
       "      <td>0.0</td>\n",
       "      <td>0.0</td>\n",
       "      <td>0.0</td>\n",
       "      <td>0.0</td>\n",
       "    </tr>\n",
       "    <tr>\n",
       "      <th>3</th>\n",
       "      <td>0.0</td>\n",
       "      <td>0.0</td>\n",
       "      <td>0.0</td>\n",
       "      <td>0.0</td>\n",
       "      <td>0.0</td>\n",
       "      <td>0.0</td>\n",
       "    </tr>\n",
       "    <tr>\n",
       "      <th>4</th>\n",
       "      <td>0.0</td>\n",
       "      <td>0.0</td>\n",
       "      <td>0.0</td>\n",
       "      <td>0.0</td>\n",
       "      <td>0.0</td>\n",
       "      <td>0.0</td>\n",
       "    </tr>\n",
       "  </tbody>\n",
       "</table>\n",
       "</div>"
      ],
      "text/plain": [
       "   H3K27ac  H3K27me3  H3K36me3  H3K4me1  H3K4me3  H3K9me3\n",
       "0      0.0       0.0       0.0      0.0      0.0      0.0\n",
       "1      0.0       0.0       0.0      0.0      0.0      0.0\n",
       "2      0.0       0.0       0.0      0.0      0.0      0.0\n",
       "3      0.0       0.0       0.0      0.0      0.0      0.0\n",
       "4      0.0       0.0       0.0      0.0      0.0      0.0"
      ]
     },
     "execution_count": 45,
     "metadata": {},
     "output_type": "execute_result"
    }
   ],
   "source": [
    "first_chrom_df.head()"
   ]
  },
  {
   "cell_type": "code",
   "execution_count": 47,
   "metadata": {},
   "outputs": [],
   "source": [
    "labels_nonzero[labels_nonzero == 0] = -1"
   ]
  },
  {
   "cell_type": "code",
   "execution_count": 54,
   "metadata": {},
   "outputs": [
    {
     "data": {
      "text/plain": [
       "-0.9192660533827152"
      ]
     },
     "execution_count": 54,
     "metadata": {},
     "output_type": "execute_result"
    }
   ],
   "source": [
    "sum(labels_nonzero) / len(labels_nonzero)"
   ]
  },
  {
   "cell_type": "code",
   "execution_count": null,
   "metadata": {},
   "outputs": [
    {
     "data": {
      "text/plain": [
       "<matplotlib.collections.PathCollection at 0x7fb16a6233c8>"
      ]
     },
     "execution_count": 56,
     "metadata": {},
     "output_type": "execute_result"
    }
   ],
   "source": [
    "plt.scatter(x, y, alpha=0.1, s=0.2, c=labels_nonzero, cmap=\"binary\")"
   ]
  },
  {
   "cell_type": "code",
   "execution_count": 104,
   "metadata": {},
   "outputs": [
    {
     "data": {
      "text/plain": [
       "<matplotlib.axes._subplots.AxesSubplot at 0x7f0ace059c18>"
      ]
     },
     "execution_count": 104,
     "metadata": {},
     "output_type": "execute_result"
    },
    {
     "data": {
      "image/png": "[encoded data removed]",
      "text/plain": [
       "<matplotlib.figure.Figure at 0x7f0ace0e59b0>"
      ]
     },
     "metadata": {},
     "output_type": "display_data"
    }
   ],
   "source": [
    "sns.distplot(first_nonzero[\"H3K27me3\"])"
   ]
  },
  {
   "cell_type": "code",
   "execution_count": 67,
   "metadata": {},
   "outputs": [
    {
     "data": {
      "text/plain": [
       "<matplotlib.axes._subplots.AxesSubplot at 0x7fd30cfc4eb8>"
      ]
     },
     "execution_count": 67,
     "metadata": {},
     "output_type": "execute_result"
    },
    {
     "data": {
      "image/png": "[encoded data removed]",
      "text/plain": [
       "<matplotlib.figure.Figure at 0x7fd1e0292588>"
      ]
     },
     "metadata": {},
     "output_type": "display_data"
    }
   ],
   "source": [
    "sns.distplot(x)"
   ]
  },
  {
   "cell_type": "code",
   "execution_count": 68,
   "metadata": {},
   "outputs": [
    {
     "data": {
      "text/plain": [
       "<matplotlib.axes._subplots.AxesSubplot at 0x7fd1dc8fb4e0>"
      ]
     },
     "execution_count": 68,
     "metadata": {},
     "output_type": "execute_result"
    },
    {
     "data": {
      "image/png": "[encoded data removed]",
      "text/plain": [
       "<matplotlib.figure.Figure at 0x7fd1d8d2a9b0>"
      ]
     },
     "metadata": {},
     "output_type": "display_data"
    }
   ],
   "source": [
    "sns.distplot(y)"
   ]
  },
  {
   "cell_type": "markdown",
   "metadata": {},
   "source": [
    "## Cluster like I dunno what"
   ]
  },
  {
   "cell_type": "code",
   "execution_count": 8,
   "metadata": {},
   "outputs": [],
   "source": [
    "from scipy import optimize\n",
    "from sklearn.metrics import mean_squared_error\n",
    "from sklearn.o"
   ]
  },
  {
   "cell_type": "code",
   "execution_count": 10,
   "metadata": {},
   "outputs": [],
   "source": [
    "import sklearn as sk"
   ]
  },
  {
   "cell_type": "code",
   "execution_count": 14,
   "metadata": {},
   "outputs": [],
   "source": [
    "from sklearn import calibration as cal"
   ]
  },
  {
   "cell_type": "code",
   "execution_count": 13,
   "metadata": {},
   "outputs": [
    {
     "data": {
      "text/plain": [
       "['calibration',\n",
       " 'cluster',\n",
       " 'covariance',\n",
       " 'cross_decomposition',\n",
       " 'cross_validation',\n",
       " 'datasets',\n",
       " 'decomposition',\n",
       " 'dummy',\n",
       " 'ensemble',\n",
       " 'exceptions',\n",
       " 'externals',\n",
       " 'feature_extraction',\n",
       " 'feature_selection',\n",
       " 'gaussian_process',\n",
       " 'grid_search',\n",
       " 'isotonic',\n",
       " 'kernel_approximation',\n",
       " 'kernel_ridge',\n",
       " 'learning_curve',\n",
       " 'linear_model',\n",
       " 'manifold',\n",
       " 'metrics',\n",
       " 'mixture',\n",
       " 'model_selection',\n",
       " 'multiclass',\n",
       " 'multioutput',\n",
       " 'naive_bayes',\n",
       " 'neighbors',\n",
       " 'neural_network',\n",
       " 'pipeline',\n",
       " 'preprocessing',\n",
       " 'random_projection',\n",
       " 'semi_supervised',\n",
       " 'svm',\n",
       " 'tree',\n",
       " 'discriminant_analysis',\n",
       " 'clone']"
      ]
     },
     "execution_count": 13,
     "metadata": {},
     "output_type": "execute_result"
    }
   ],
   "source": [
    "sk.__all__"
   ]
  },
  {
   "cell_type": "code",
   "execution_count": 12,
   "metadata": {},
   "outputs": [
    {
     "data": {
      "text/plain": [
       "['_ASSUME_FINITE',\n",
       " '__SKLEARN_SETUP__',\n",
       " '__all__',\n",
       " '__builtins__',\n",
       " '__cached__',\n",
       " '__check_build',\n",
       " '__doc__',\n",
       " '__file__',\n",
       " '__loader__',\n",
       " '__name__',\n",
       " '__package__',\n",
       " '__path__',\n",
       " '__spec__',\n",
       " '__version__',\n",
       " '_contextmanager',\n",
       " 'base',\n",
       " 'clone',\n",
       " 'config_context',\n",
       " 'exceptions',\n",
       " 'externals',\n",
       " 'get_config',\n",
       " 'logger',\n",
       " 'logging',\n",
       " 'metrics',\n",
       " 'os',\n",
       " 'preprocessing',\n",
       " 're',\n",
       " 'set_config',\n",
       " 'setup_module',\n",
       " 'sys',\n",
       " 'utils',\n",
       " 'warnings']"
      ]
     },
     "execution_count": 12,
     "metadata": {},
     "output_type": "execute_result"
    }
   ],
   "source": [
    "dir(sk)"
   ]
  },
  {
   "cell_type": "code",
   "execution_count": 5,
   "metadata": {},
   "outputs": [
    {
     "data": {
      "text/plain": [
       "['LbfgsInvHessProduct',\n",
       " 'OptimizeResult',\n",
       " 'OptimizeWarning',\n",
       " '__all__',\n",
       " '__builtins__',\n",
       " '__cached__',\n",
       " '__doc__',\n",
       " '__file__',\n",
       " '__loader__',\n",
       " '__name__',\n",
       " '__package__',\n",
       " '__path__',\n",
       " '__spec__',\n",
       " '_basinhopping',\n",
       " '_cobyla',\n",
       " '_differentialevolution',\n",
       " '_group_columns',\n",
       " '_hungarian',\n",
       " '_lbfgsb',\n",
       " '_linprog',\n",
       " '_linprog_ip',\n",
       " '_lsq',\n",
       " '_minimize',\n",
       " '_minpack',\n",
       " '_nnls',\n",
       " '_numdiff',\n",
       " '_remove_redundancy',\n",
       " '_root',\n",
       " '_slsqp',\n",
       " '_spectral',\n",
       " '_trlib',\n",
       " '_trustregion',\n",
       " '_trustregion_dogleg',\n",
       " '_trustregion_exact',\n",
       " '_trustregion_krylov',\n",
       " '_trustregion_ncg',\n",
       " '_zeros',\n",
       " 'absolute_import',\n",
       " 'anderson',\n",
       " 'approx_fprime',\n",
       " 'basinhopping',\n",
       " 'bisect',\n",
       " 'bracket',\n",
       " 'brent',\n",
       " 'brenth',\n",
       " 'brentq',\n",
       " 'broyden1',\n",
       " 'broyden2',\n",
       " 'brute',\n",
       " 'check_grad',\n",
       " 'cobyla',\n",
       " 'curve_fit',\n",
       " 'diagbroyden',\n",
       " 'differential_evolution',\n",
       " 'division',\n",
       " 'excitingmixing',\n",
       " 'fixed_point',\n",
       " 'fmin',\n",
       " 'fmin_bfgs',\n",
       " 'fmin_cg',\n",
       " 'fmin_cobyla',\n",
       " 'fmin_l_bfgs_b',\n",
       " 'fmin_ncg',\n",
       " 'fmin_powell',\n",
       " 'fmin_slsqp',\n",
       " 'fmin_tnc',\n",
       " 'fminbound',\n",
       " 'fsolve',\n",
       " 'golden',\n",
       " 'lbfgsb',\n",
       " 'least_squares',\n",
       " 'leastsq',\n",
       " 'line_search',\n",
       " 'linear_sum_assignment',\n",
       " 'linearmixing',\n",
       " 'linesearch',\n",
       " 'linprog',\n",
       " 'linprog_verbose_callback',\n",
       " 'lsq_linear',\n",
       " 'minimize',\n",
       " 'minimize_scalar',\n",
       " 'minpack',\n",
       " 'minpack2',\n",
       " 'moduleTNC',\n",
       " 'newton',\n",
       " 'newton_krylov',\n",
       " 'nnls',\n",
       " 'nonlin',\n",
       " 'optimize',\n",
       " 'print_function',\n",
       " 'ridder',\n",
       " 'root',\n",
       " 'rosen',\n",
       " 'rosen_der',\n",
       " 'rosen_hess',\n",
       " 'rosen_hess_prod',\n",
       " 'show_options',\n",
       " 'slsqp',\n",
       " 'test',\n",
       " 'tnc',\n",
       " 'zeros']"
      ]
     },
     "execution_count": 5,
     "metadata": {},
     "output_type": "execute_result"
    }
   ],
   "source": [
    "dir(optimize)"
   ]
  }
 ],
 "metadata": {
  "kernelspec": {
   "display_name": "Python 3",
   "language": "python",
   "name": "python3"
  },
  "language_info": {
   "codemirror_mode": {
    "name": "ipython",
    "version": 3
   },
   "file_extension": ".py",
   "mimetype": "text/x-python",
   "name": "python",
   "nbconvert_exporter": "python",
   "pygments_lexer": "ipython3",
   "version": "3.5.2"
  }
 },
 "nbformat": 4,
 "nbformat_minor": 2
}
