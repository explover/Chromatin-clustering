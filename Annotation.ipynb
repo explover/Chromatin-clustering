{
 "cells": [
  {
   "cell_type": "code",
   "execution_count": 16,
   "metadata": {},
   "outputs": [],
   "source": [
    "# Data analysis\n",
    "import numpy as np\n",
    "import pandas as pd\n",
    "import matplotlib.pyplot as plt\n",
    "import seaborn as sns\n",
    "import sklearn as sk\n",
    "import keras\n",
    "\n",
    "# Bioinformatics\n",
    "from BCBio.GFF import GFFExaminer\n",
    "\n",
    "# Convenience\n",
    "from tqdm import tqdm_notebook\n",
    "from math import ceil, floor"
   ]
  },
  {
   "cell_type": "markdown",
   "metadata": {},
   "source": [
    "## Playing with GTF files"
   ]
  },
  {
   "cell_type": "code",
   "execution_count": 4,
   "metadata": {},
   "outputs": [],
   "source": [
    "gtf_filename = \"../Labels/Homo_sapiens.GRCh38.91.gtf\""
   ]
  },
  {
   "cell_type": "code",
   "execution_count": 5,
   "metadata": {},
   "outputs": [
    {
     "name": "stderr",
     "output_type": "stream",
     "text": [
      "/home/domain/explover/ChromatinClustering/env/lib/python3.5/site-packages/IPython/core/interactiveshell.py:2728: DtypeWarning: Columns (0) have mixed types. Specify dtype option on import or set low_memory=False.\n",
      "  interactivity=interactivity, compiler=compiler, result=result)\n"
     ]
    }
   ],
   "source": [
    "ann_df = pd.read_csv(gtf_filename, sep=\"\\t\", comment=\"#\", header=None)"
   ]
  },
  {
   "cell_type": "code",
   "execution_count": 15,
   "metadata": {},
   "outputs": [
    {
     "data": {
      "text/plain": [
       "array(['gene', 'transcript', 'exon', 'CDS', 'start_codon', 'stop_codon',\n",
       "       'five_prime_utr', 'three_prime_utr', 'Selenocysteine'], dtype=object)"
      ]
     },
     "execution_count": 15,
     "metadata": {},
     "output_type": "execute_result"
    }
   ],
   "source": [
    "ann_df[2].unique()"
   ]
  },
  {
   "cell_type": "code",
   "execution_count": 24,
   "metadata": {},
   "outputs": [
    {
     "data": {
      "text/plain": [
       "'gene_id \"ENSG00000223972\"; gene_version \"5\"; gene_name \"DDX11L1\"; gene_source \"havana\"; gene_biotype \"transcribed_unprocessed_pseudogene\";'"
      ]
     },
     "execution_count": 24,
     "metadata": {},
     "output_type": "execute_result"
    }
   ],
   "source": [
    "ann_df.iloc[0][8]"
   ]
  },
  {
   "cell_type": "code",
   "execution_count": 22,
   "metadata": {},
   "outputs": [
    {
     "data": {
      "text/plain": [
       "2612843"
      ]
     },
     "execution_count": 22,
     "metadata": {},
     "output_type": "execute_result"
    }
   ],
   "source": [
    "len(ann_df)"
   ]
  },
  {
   "cell_type": "code",
   "execution_count": 44,
   "metadata": {},
   "outputs": [
    {
     "data": {
      "text/html": [
       "<div>\n",
       "<style scoped>\n",
       "    .dataframe tbody tr th:only-of-type {\n",
       "        vertical-align: middle;\n",
       "    }\n",
       "\n",
       "    .dataframe tbody tr th {\n",
       "        vertical-align: top;\n",
       "    }\n",
       "\n",
       "    .dataframe thead th {\n",
       "        text-align: right;\n",
       "    }\n",
       "</style>\n",
       "<table border=\"1\" class=\"dataframe\">\n",
       "  <thead>\n",
       "    <tr style=\"text-align: right;\">\n",
       "      <th></th>\n",
       "      <th>0</th>\n",
       "      <th>1</th>\n",
       "      <th>2</th>\n",
       "      <th>3</th>\n",
       "      <th>4</th>\n",
       "      <th>5</th>\n",
       "      <th>6</th>\n",
       "      <th>7</th>\n",
       "      <th>8</th>\n",
       "    </tr>\n",
       "  </thead>\n",
       "  <tbody>\n",
       "    <tr>\n",
       "      <th>0</th>\n",
       "      <td>1</td>\n",
       "      <td>havana</td>\n",
       "      <td>gene</td>\n",
       "      <td>11869</td>\n",
       "      <td>14409</td>\n",
       "      <td>.</td>\n",
       "      <td>+</td>\n",
       "      <td>.</td>\n",
       "      <td>gene_id \"ENSG00000223972\"; gene_version \"5\"; g...</td>\n",
       "    </tr>\n",
       "    <tr>\n",
       "      <th>1</th>\n",
       "      <td>1</td>\n",
       "      <td>havana</td>\n",
       "      <td>transcript</td>\n",
       "      <td>11869</td>\n",
       "      <td>14409</td>\n",
       "      <td>.</td>\n",
       "      <td>+</td>\n",
       "      <td>.</td>\n",
       "      <td>gene_id \"ENSG00000223972\"; gene_version \"5\"; t...</td>\n",
       "    </tr>\n",
       "    <tr>\n",
       "      <th>2</th>\n",
       "      <td>1</td>\n",
       "      <td>havana</td>\n",
       "      <td>exon</td>\n",
       "      <td>11869</td>\n",
       "      <td>12227</td>\n",
       "      <td>.</td>\n",
       "      <td>+</td>\n",
       "      <td>.</td>\n",
       "      <td>gene_id \"ENSG00000223972\"; gene_version \"5\"; t...</td>\n",
       "    </tr>\n",
       "    <tr>\n",
       "      <th>3</th>\n",
       "      <td>1</td>\n",
       "      <td>havana</td>\n",
       "      <td>exon</td>\n",
       "      <td>12613</td>\n",
       "      <td>12721</td>\n",
       "      <td>.</td>\n",
       "      <td>+</td>\n",
       "      <td>.</td>\n",
       "      <td>gene_id \"ENSG00000223972\"; gene_version \"5\"; t...</td>\n",
       "    </tr>\n",
       "    <tr>\n",
       "      <th>4</th>\n",
       "      <td>1</td>\n",
       "      <td>havana</td>\n",
       "      <td>exon</td>\n",
       "      <td>13221</td>\n",
       "      <td>14409</td>\n",
       "      <td>.</td>\n",
       "      <td>+</td>\n",
       "      <td>.</td>\n",
       "      <td>gene_id \"ENSG00000223972\"; gene_version \"5\"; t...</td>\n",
       "    </tr>\n",
       "    <tr>\n",
       "      <th>5</th>\n",
       "      <td>1</td>\n",
       "      <td>havana</td>\n",
       "      <td>transcript</td>\n",
       "      <td>12010</td>\n",
       "      <td>13670</td>\n",
       "      <td>.</td>\n",
       "      <td>+</td>\n",
       "      <td>.</td>\n",
       "      <td>gene_id \"ENSG00000223972\"; gene_version \"5\"; t...</td>\n",
       "    </tr>\n",
       "    <tr>\n",
       "      <th>6</th>\n",
       "      <td>1</td>\n",
       "      <td>havana</td>\n",
       "      <td>exon</td>\n",
       "      <td>12010</td>\n",
       "      <td>12057</td>\n",
       "      <td>.</td>\n",
       "      <td>+</td>\n",
       "      <td>.</td>\n",
       "      <td>gene_id \"ENSG00000223972\"; gene_version \"5\"; t...</td>\n",
       "    </tr>\n",
       "    <tr>\n",
       "      <th>7</th>\n",
       "      <td>1</td>\n",
       "      <td>havana</td>\n",
       "      <td>exon</td>\n",
       "      <td>12179</td>\n",
       "      <td>12227</td>\n",
       "      <td>.</td>\n",
       "      <td>+</td>\n",
       "      <td>.</td>\n",
       "      <td>gene_id \"ENSG00000223972\"; gene_version \"5\"; t...</td>\n",
       "    </tr>\n",
       "    <tr>\n",
       "      <th>8</th>\n",
       "      <td>1</td>\n",
       "      <td>havana</td>\n",
       "      <td>exon</td>\n",
       "      <td>12613</td>\n",
       "      <td>12697</td>\n",
       "      <td>.</td>\n",
       "      <td>+</td>\n",
       "      <td>.</td>\n",
       "      <td>gene_id \"ENSG00000223972\"; gene_version \"5\"; t...</td>\n",
       "    </tr>\n",
       "    <tr>\n",
       "      <th>9</th>\n",
       "      <td>1</td>\n",
       "      <td>havana</td>\n",
       "      <td>exon</td>\n",
       "      <td>12975</td>\n",
       "      <td>13052</td>\n",
       "      <td>.</td>\n",
       "      <td>+</td>\n",
       "      <td>.</td>\n",
       "      <td>gene_id \"ENSG00000223972\"; gene_version \"5\"; t...</td>\n",
       "    </tr>\n",
       "  </tbody>\n",
       "</table>\n",
       "</div>"
      ],
      "text/plain": [
       "   0       1           2      3      4  5  6  7  \\\n",
       "0  1  havana        gene  11869  14409  .  +  .   \n",
       "1  1  havana  transcript  11869  14409  .  +  .   \n",
       "2  1  havana        exon  11869  12227  .  +  .   \n",
       "3  1  havana        exon  12613  12721  .  +  .   \n",
       "4  1  havana        exon  13221  14409  .  +  .   \n",
       "5  1  havana  transcript  12010  13670  .  +  .   \n",
       "6  1  havana        exon  12010  12057  .  +  .   \n",
       "7  1  havana        exon  12179  12227  .  +  .   \n",
       "8  1  havana        exon  12613  12697  .  +  .   \n",
       "9  1  havana        exon  12975  13052  .  +  .   \n",
       "\n",
       "                                                   8  \n",
       "0  gene_id \"ENSG00000223972\"; gene_version \"5\"; g...  \n",
       "1  gene_id \"ENSG00000223972\"; gene_version \"5\"; t...  \n",
       "2  gene_id \"ENSG00000223972\"; gene_version \"5\"; t...  \n",
       "3  gene_id \"ENSG00000223972\"; gene_version \"5\"; t...  \n",
       "4  gene_id \"ENSG00000223972\"; gene_version \"5\"; t...  \n",
       "5  gene_id \"ENSG00000223972\"; gene_version \"5\"; t...  \n",
       "6  gene_id \"ENSG00000223972\"; gene_version \"5\"; t...  \n",
       "7  gene_id \"ENSG00000223972\"; gene_version \"5\"; t...  \n",
       "8  gene_id \"ENSG00000223972\"; gene_version \"5\"; t...  \n",
       "9  gene_id \"ENSG00000223972\"; gene_version \"5\"; t...  "
      ]
     },
     "execution_count": 44,
     "metadata": {},
     "output_type": "execute_result"
    }
   ],
   "source": [
    "ann_df.head(10)"
   ]
  },
  {
   "cell_type": "code",
   "execution_count": 52,
   "metadata": {},
   "outputs": [
    {
     "data": {
      "text/plain": [
       "248912795"
      ]
     },
     "execution_count": 52,
     "metadata": {},
     "output_type": "execute_result"
    }
   ],
   "source": [
    "max(ann_df[ann_df[1] == \"ensembl\"][4])"
   ]
  },
  {
   "cell_type": "code",
   "execution_count": 46,
   "metadata": {},
   "outputs": [
    {
     "data": {
      "text/plain": [
       "248741"
      ]
     },
     "execution_count": 46,
     "metadata": {},
     "output_type": "execute_result"
    }
   ],
   "source": [
    "len(ann_df[ann_df[1] == \"ensembl\"])"
   ]
  },
  {
   "cell_type": "code",
   "execution_count": 42,
   "metadata": {},
   "outputs": [
    {
     "data": {
      "application/vnd.jupyter.widget-view+json": {
       "model_id": "d2f2ec624785430293d9261cdd37b822",
       "version_major": 2,
       "version_minor": 0
      },
      "text/html": [
       "<p>Failed to display Jupyter Widget of type <code>HBox</code>.</p>\n",
       "<p>\n",
       "  If you're reading this message in the Jupyter Notebook or JupyterLab Notebook, it may mean\n",
       "  that the widgets JavaScript is still loading. If this message persists, it\n",
       "  likely means that the widgets JavaScript library is either not installed or\n",
       "  not enabled. See the <a href=\"https://ipywidgets.readthedocs.io/en/stable/user_install.html\">Jupyter\n",
       "  Widgets Documentation</a> for setup instructions.\n",
       "</p>\n",
       "<p>\n",
       "  If you're reading this message in another frontend (for example, a static\n",
       "  rendering on GitHub or <a href=\"https://nbviewer.jupyter.org/\">NBViewer</a>),\n",
       "  it may mean that your frontend doesn't currently support widgets.\n",
       "</p>\n"
      ],
      "text/plain": [
       "HBox(children=(IntProgress(value=1, bar_style='info', max=1), HTML(value='')))"
      ]
     },
     "metadata": {},
     "output_type": "display_data"
    },
    {
     "name": "stdout",
     "output_type": "stream",
     "text": [
      "119 145\n",
      "145 296\n",
      "174 175\n",
      "296 312\n",
      "304 306\n",
      "346 361\n",
      "525 534\n",
      "576 642\n",
      "655 716\n",
      "893 1338\n",
      "896 912\n",
      "1311 1349\n",
      "1352 1359\n",
      "1377 1380\n",
      "1398 1404\n",
      "1415 1739\n",
      "1578 1579\n",
      "1605 1616\n",
      "1827 1842\n",
      "1853 1955\n",
      "1879 1880\n",
      "2579 3597\n",
      "3480 3484\n",
      "3589 3661\n",
      "3654 5230\n",
      "4399 4403\n",
      "4508 4517\n",
      "4872 4900\n",
      "4913 4933\n",
      "5164 5165\n",
      "5861 8278\n",
      "5877 5948\n",
      "6291 6295\n",
      "6297 6307\n",
      "6311 6327\n",
      "6324 6325\n",
      "6328 6335\n",
      "6336 6338\n",
      "6337 6344\n",
      "6344 6350\n",
      "6749 6753\n",
      "6857 6867\n",
      "7221 7250\n",
      "7259 7787\n",
      "7583 7584\n",
      "7610 7620\n",
      "7788 8101\n",
      "8009 8178\n",
      "8174 8199\n",
      "8252 8595\n",
      "8263 8276\n",
      "8681 8770\n",
      "8733 8744\n",
      "8746 8773\n",
      "9049 9160\n",
      "9115 9150\n",
      "9142 9150\n",
      "9169 9211\n",
      "9240 9446\n",
      "9443 9594\n",
      "9606 9658\n",
      "9665 9759\n",
      "9753 9821\n",
      "9960 9981\n",
      "9990 10002\n",
      "10012 10146\n",
      "10081 10083\n",
      "10120 10132\n",
      "10202 10562\n",
      "10551 10562\n",
      "10598 10694\n",
      "10623 10633\n",
      "10710 10744\n",
      "10819 11164\n",
      "11371 11441\n",
      "11672 11672\n",
      "11679 11680\n",
      "11691 11691\n",
      "11694 11704\n",
      "11731 11796\n",
      "11739 11980\n",
      "12036 12067\n",
      "12114 12142\n",
      "12170 12321\n",
      "12323 12351\n",
      "12425 12468\n",
      "12498 12514\n",
      "12540 12739\n",
      "12753 12805\n",
      "12805 12921\n",
      "12924 13097\n",
      "12962 12962\n",
      "13086 13117\n",
      "13116 13247\n",
      "13126 13126\n",
      "13176 13187\n",
      "13248 13289\n",
      "13314 13354\n",
      "13353 13494\n",
      "13397 13398\n",
      "13527 13618\n",
      "13738 13755\n",
      "13787 13791\n",
      "13858 13994\n",
      "13996 14021\n",
      "14020 14074\n",
      "14055 14058\n",
      "14091 14107\n",
      "14185 14218\n",
      "14203 14227\n",
      "14262 14278\n",
      "14306 14346\n",
      "14349 14429\n",
      "14497 14702\n",
      "14718 14979\n",
      "15033 15095\n",
      "15122 15347\n",
      "15352 15405\n",
      "15417 15749\n",
      "15750 15771\n",
      "15836 15840\n",
      "15981 16001\n",
      "16138 16158\n",
      "16155 16307\n",
      "16321 16353\n",
      "16353 16591\n",
      "16594 16627\n",
      "16596 16928\n",
      "16720 16744\n",
      "17000 17018\n",
      "17028 17244\n",
      "17028 17377\n",
      "17246 17373\n",
      "17249 17460\n",
      "17513 17805\n",
      "17853 18912\n",
      "18915 18927\n",
      "19149 19173\n",
      "19176 19193\n",
      "19220 20039\n",
      "20133 20156\n",
      "20193 20308\n",
      "20493 20501\n",
      "20505 21854\n",
      "21411 21453\n",
      "21818 21844\n",
      "21845 22128\n",
      "22126 22208\n",
      "22287 23102\n",
      "23213 23918\n",
      "23263 23267\n",
      "23505 23529\n",
      "23631 23637\n",
      "23918 24055\n",
      "24040 24138\n",
      "24260 25056\n",
      "24923 24933\n",
      "24935 24945\n",
      "25086 25267\n",
      "25288 25303\n",
      "25465 25475\n",
      "25500 25571\n",
      "25557 25654\n",
      "25665 25699\n",
      "25816 25846\n",
      "25865 25915\n",
      "25907 26330\n",
      "26326 26367\n",
      "26360 28018\n",
      "27737 27765\n",
      "28119 28127\n",
      "28145 28150\n",
      "29607 29688\n",
      "30215 30230\n",
      "30597 30685\n",
      "30692 34387\n"
     ]
    }
   ],
   "source": [
    "for ind, row in tqdm_notebook(ann_df.iloc[:10000].iterrows()):\n",
    "    if row[2] == \"gene\":\n",
    "        start = ceil(row[3] / 100)\n",
    "        stop = ceil(row[4] / 100)\n",
    "        print(start, stop)"
   ]
  },
  {
   "cell_type": "markdown",
   "metadata": {},
   "source": [
    "### Get gene labels for first chromosome"
   ]
  },
  {
   "cell_type": "code",
   "execution_count": 32,
   "metadata": {},
   "outputs": [],
   "source": [
    "chrom_size = 248956422"
   ]
  },
  {
   "cell_type": "code",
   "execution_count": 50,
   "metadata": {},
   "outputs": [],
   "source": [
    "def get_gene_labels(ann_df, chrom_size, who_annotated):\n",
    "    labels = pd.Series(np.zeros(chrom_size // 100))\n",
    "              \n",
    "    for ind, row in tqdm_notebook(ann_df.iterrows()):\n",
    "        if row[2] == \"CDS\" and row[1] == who_annotated:\n",
    "            start = ceil(row[3] / 100)\n",
    "            stop = floor(row[4] / 100)\n",
    "            labels[start:stop+1] = np.ones(stop - start + 1)\n",
    "    return labels"
   ]
  },
  {
   "cell_type": "code",
   "execution_count": 51,
   "metadata": {},
   "outputs": [
    {
     "data": {
      "application/vnd.jupyter.widget-view+json": {
       "model_id": "7bda0287326d45f5a5b5eb0089b06428",
       "version_major": 2,
       "version_minor": 0
      },
      "text/html": [
       "<p>Failed to display Jupyter Widget of type <code>HBox</code>.</p>\n",
       "<p>\n",
       "  If you're reading this message in the Jupyter Notebook or JupyterLab Notebook, it may mean\n",
       "  that the widgets JavaScript is still loading. If this message persists, it\n",
       "  likely means that the widgets JavaScript library is either not installed or\n",
       "  not enabled. See the <a href=\"https://ipywidgets.readthedocs.io/en/stable/user_install.html\">Jupyter\n",
       "  Widgets Documentation</a> for setup instructions.\n",
       "</p>\n",
       "<p>\n",
       "  If you're reading this message in another frontend (for example, a static\n",
       "  rendering on GitHub or <a href=\"https://nbviewer.jupyter.org/\">NBViewer</a>),\n",
       "  it may mean that your frontend doesn't currently support widgets.\n",
       "</p>\n"
      ],
      "text/plain": [
       "HBox(children=(IntProgress(value=1, bar_style='info', max=1), HTML(value='')))"
      ]
     },
     "metadata": {},
     "output_type": "display_data"
    }
   ],
   "source": [
    "gene_labels_ensembl = get_gene_labels(ann_df, chrom_size, \"ensembl\")"
   ]
  },
  {
   "cell_type": "code",
   "execution_count": 58,
   "metadata": {},
   "outputs": [
    {
     "data": {
      "text/plain": [
       "pandas.core.series.Series"
      ]
     },
     "execution_count": 58,
     "metadata": {},
     "output_type": "execute_result"
    }
   ],
   "source": [
    "type(gene_labels_ensembl)"
   ]
  },
  {
   "cell_type": "code",
   "execution_count": 61,
   "metadata": {},
   "outputs": [],
   "source": [
    "gene_labels_ensembl.to_hdf(\"../Labels/ensembl_CDSs.hdf\", \"w\")"
   ]
  },
  {
   "cell_type": "code",
   "execution_count": 54,
   "metadata": {},
   "outputs": [
    {
     "data": {
      "text/plain": [
       "100472.0"
      ]
     },
     "execution_count": 54,
     "metadata": {},
     "output_type": "execute_result"
    }
   ],
   "source": [
    "sum(gene_labels_ensembl)"
   ]
  },
  {
   "cell_type": "code",
   "execution_count": 55,
   "metadata": {},
   "outputs": [
    {
     "data": {
      "text/plain": [
       "2489564"
      ]
     },
     "execution_count": 55,
     "metadata": {},
     "output_type": "execute_result"
    }
   ],
   "source": [
    "len(gene_labels_ensembl)"
   ]
  },
  {
   "cell_type": "code",
   "execution_count": 31,
   "metadata": {},
   "outputs": [
    {
     "name": "stdout",
     "output_type": "stream",
     "text": [
      "0      0.0\n",
      "1      0.0\n",
      "2      0.0\n",
      "3      0.0\n",
      "4      0.0\n",
      "5      0.0\n",
      "6      1.0\n",
      "7      1.0\n",
      "8      1.0\n",
      "9      1.0\n",
      "10     1.0\n",
      "11     1.0\n",
      "12     1.0\n",
      "13     1.0\n",
      "14     1.0\n",
      "15     1.0\n",
      "16     1.0\n",
      "17     1.0\n",
      "18     1.0\n",
      "19     1.0\n",
      "20     1.0\n",
      "21     1.0\n",
      "22     1.0\n",
      "23     1.0\n",
      "24     1.0\n",
      "25     1.0\n",
      "26     1.0\n",
      "27     1.0\n",
      "28     1.0\n",
      "29     1.0\n",
      "      ... \n",
      "970    1.0\n",
      "971    1.0\n",
      "972    1.0\n",
      "973    1.0\n",
      "974    1.0\n",
      "975    1.0\n",
      "976    1.0\n",
      "977    1.0\n",
      "978    1.0\n",
      "979    1.0\n",
      "980    1.0\n",
      "981    1.0\n",
      "982    1.0\n",
      "983    1.0\n",
      "984    1.0\n",
      "985    1.0\n",
      "986    1.0\n",
      "987    1.0\n",
      "988    1.0\n",
      "989    1.0\n",
      "990    1.0\n",
      "991    1.0\n",
      "992    1.0\n",
      "993    1.0\n",
      "994    1.0\n",
      "995    1.0\n",
      "996    1.0\n",
      "997    1.0\n",
      "998    1.0\n",
      "999    1.0\n",
      "Length: 1000, dtype: float64\n"
     ]
    }
   ],
   "source": [
    "print(gene_labels[:1000])"
   ]
  },
  {
   "cell_type": "code",
   "execution_count": null,
   "metadata": {},
   "outputs": [],
   "source": []
  }
 ],
 "metadata": {
  "kernelspec": {
   "display_name": "Python 3",
   "language": "python",
   "name": "python3"
  },
  "language_info": {
   "codemirror_mode": {
    "name": "ipython",
    "version": 3
   },
   "file_extension": ".py",
   "mimetype": "text/x-python",
   "name": "python",
   "nbconvert_exporter": "python",
   "pygments_lexer": "ipython3",
   "version": "3.5.2"
  }
 },
 "nbformat": 4,
 "nbformat_minor": 2
}
